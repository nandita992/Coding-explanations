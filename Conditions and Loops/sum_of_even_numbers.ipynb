{
 "cells": [
  {
   "cell_type": "markdown",
   "metadata": {},
   "source": [
    "<b>Given a number N, print sum of all even numbers from 1 to N<b/>"
   ]
  },
  {
   "cell_type": "code",
   "execution_count": 1,
   "metadata": {},
   "outputs": [
    {
     "name": "stdout",
     "output_type": "stream",
     "text": [
      "6\n"
     ]
    }
   ],
   "source": [
    "n = int(input())\n",
    "count = 1\n",
    "sums = 0\n",
    "\n",
    "while count<n+1:\n",
    "    if count%2==0:\n",
    "        sums = sums+count\n",
    "    count = count+1\n",
    "print(sums)"
   ]
  },
  {
   "cell_type": "markdown",
   "metadata": {},
   "source": [
    "<b>In simple english jargon <b/>"
   ]
  },
  {
   "cell_type": "markdown",
   "metadata": {},
   "source": [
    "\n",
    "\n",
    "1.  n = int(input())    <p style=\"color:MediumSeaGreen;\">Give my code an input..</p>\n",
    "2. count =1 :  <p style=\"color:MediumSeaGreen;\">I am counting on my fingers starting from 1</p>\n",
    "3. sums = 0 <p style=\"color:MediumSeaGreen;\">My sum in my head is 0 till now. That is nothing has been added.</p> \n",
    "4. while count<n+1: <p style=\"color:MediumSeaGreen;\">Meaning that till the time my fingers counting has not reached n+1 keep repeating the set of codes below.</p> \n",
    "5. if count%2==0: <p style=\"color:MediumSeaGreen;\"> So as soon as a new number comes from the while loop, if that number is divisible by 2 then it's an even number. Thus if it's an odd number then it would enter a new block of code and perform the sum. So here the first number is 1. Now 1 is not divisible by 2, thus it will not enter the sums = sums+count line of code and will jump to next line of code which is of same indentation and increase the count by 1. Now our second number is 2. So if condition is true and thus hence it will enter this line of code and perform the sum. </p> \n",
    "5. sums = sums+count <p style=\"color:MediumSeaGreen;\">When my count is 2, I will add 2 to my sum. Which is 0+2. Now i will exit this block and increase count by 1. </p> \n",
    "\n",
    "<p style=\"color:DodgerBlue;\">If it's an odd number that is the if condition is false, it will not enter that block of code and go to the next time and increase the count by 1</p>\n",
    "\n",
    "\n",
    "6. count = count+1 <p style=\"color:MediumSeaGreen;\">I will exit that batch of code and increase the count by 1.So it was 1, now my count will become 2 and if it's 2 my count will become 3. So assuming it's 2, now my next third finger will come up.</p> \n",
    "7. Now again sum = sum+count means previously my sum was 2 as 1 is an odd number, Now i will add 2 to it. And i will keep repeating this code till the time all my fingers have not openned n times. \n",
    "\n",
    "We are using n+1 because we are using more than and not more than equal to sign. \n",
    "\n",
    "If my input is 4, So first my first number is 1. I enter the if block, and see that the if condition is false, thus i dont perform the next inner code for if and jump onto the next code with same indentation and increase the count by 1. Now my second number is 2. Again two enters the if block, and the condition is true, so it will perform the inner code which is adding that number to the sums. Then my next number is 3, which does not fullfill the if condition and so the number will increase to 4. At4, the code will exit the while loop and print sums.\n",
    "\n",
    "<h1 style=\"color:Tomato;\">In python, indentation means we are exiting the loop!</h1>\n"
   ]
  },
  {
   "cell_type": "markdown",
   "metadata": {},
   "source": []
  }
 ],
 "metadata": {
  "interpreter": {
   "hash": "ce94be0b55b1a20fa85f7c0f50dba5baf56c6f1ab6e0bb60cb6ec53d5a610bf5"
  },
  "kernelspec": {
   "display_name": "Python 3.7.6 ('base')",
   "language": "python",
   "name": "python3"
  },
  "language_info": {
   "codemirror_mode": {
    "name": "ipython",
    "version": 3
   },
   "file_extension": ".py",
   "mimetype": "text/x-python",
   "name": "python",
   "nbconvert_exporter": "python",
   "pygments_lexer": "ipython3",
   "version": "3.8.9"
  },
  "orig_nbformat": 4
 },
 "nbformat": 4,
 "nbformat_minor": 2
}
