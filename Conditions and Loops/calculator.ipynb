{
 "cells": [
  {
   "cell_type": "markdown",
   "metadata": {},
   "source": [
    "<b>Write a program that performs the tasks of a simple calculator. The program should first take an integer as input and then based on that integer perform the task as given below.<b/>"
   ]
  },
  {
   "cell_type": "markdown",
   "metadata": {},
   "source": [
    "1. If the input is 1, then 2 integers are taken from the user and their sum is printed.\n",
    "<br>\n",
    "2. If the input is 2, then 2 integers are taken from the user and their difference(1st number - 2nd number) is printed.\n",
    "<br>\n",
    "3. If the input is 3, then 2 integers are taken from the user and their product is printed.\n",
    "<br>\n",
    "4. If the input is 4, then 2 integers are taken from the user and the quotient obtained (on dividing 1st number by 2nd number) is printed.\n",
    "<br>\n",
    "5. If the input is 5, then 2 integers are taken from the user and their remainder(1st number mod 2nd number) is printed.\n",
    "<br>\n",
    "6. If the input is 6, then the program exits.\n",
    "<br>\n",
    "7. For any other input, then print \"Invalid Operation\"."
   ]
  },
  {
   "cell_type": "code",
   "execution_count": null,
   "metadata": {},
   "outputs": [],
   "source": [
    "while True:\n",
    "    i = int(input())\n",
    "    if(i == 1):\n",
    "        a = int(input())\n",
    "        b = int(input())\n",
    "        c = a+b\n",
    "        print(c)\n",
    "    elif(i == 2):\n",
    "        a = int(input())\n",
    "        b = int(input())\n",
    "        c = a-b\n",
    "        print(c)\n",
    "    elif(i == 3):\n",
    "        a = int(input())\n",
    "        b = int(input())\n",
    "        c = a*b\n",
    "        print(c)\n",
    "    elif(i == 4):\n",
    "        a = int(input())\n",
    "        b = int(input())\n",
    "        c = a/b\n",
    "        print(int(c))\n",
    "    elif(i == 5):\n",
    "        a = int(input())\n",
    "        b = int(input())\n",
    "        c = a//b\n",
    "        print(int(c))\n",
    "    elif(i == 6):\n",
    "        quit()\n",
    "    else:\n",
    "        print(\"Invalid Operation\")"
   ]
  },
  {
   "cell_type": "markdown",
   "metadata": {},
   "source": [
    "<b>In simple english jargon <b/>"
   ]
  },
  {
   "cell_type": "markdown",
   "metadata": {},
   "source": [
    "\n",
    "\n",
    "1.while True    <p style=\"color:MediumSeaGreen;\">This is denoted when we don't want the code to end. Because we basically programming the calculator, and calculator never exits the loop and stops after every calculation thus we dont' want our code to stop too. </p>\n",
    "\n",
    "2. i = int(input()) <p style=\"color:MediumSeaGreen;\">So because the code will keep returning the answers, we have taken the input inside the while loop. As soon one of the elif or if block is completed it again enters the code and is ready to take another value. So i basically denotes which type of mathematical operation we need to perform. As per the i value the code will jump to that block. </p> \n",
    "\n",
    "3. if(i == 1):\n",
    "  <br>\n",
    "  a = int(input())\n",
    "  <br>\n",
    "  b = int(input())\n",
    "  <br>\n",
    "  c = a+b\n",
    "  <br>\n",
    "  print(c)\n",
    "        \n",
    " <p style=\"color:MediumSeaGreen;\"> As soon as the type of mathematical operation comes in it enters the first block. If the i which is type of mathematical operation does not match that code's operation, it will jump to the next code. </p> \n",
    "\n",
    "4.  if(i == 2):\n",
    "      <br>\n",
    "      a = int(input())\n",
    "      <br>\n",
    "      b = int(input())\n",
    "      <br>\n",
    "      c = a+b\n",
    "      <br>\n",
    "      print(c)\n",
    "\n",
    "<p style=\"color:MediumSeaGreen;\">If the mathematical operation matches this code operation, then it will enter the code with inderation and take the inputs, perform the calculation and print the answer. once done, it will go back to the while loop and again ask the type of mathematical operation from the user. </p> \n",
    "\n",
    "so for example I was perform the diffrence so my i should be 2. I enter the while loop, and enter 2 that is i want to perform diffrence operation. It goes to first if block and check if the block id matches mine. It doesn't. Then it goes to the next block and sees that yes this mathces. So it enters the block with indentation and perform the calculation, print the answer, exits the loop and again enters the while loop without any condition. \n",
    "\n",
    "\n",
    "<h1 style=\"color:Tomato;\">In python, indentation means we are entering or exiting the loop!</h1>\n"
   ]
  },
  {
   "cell_type": "markdown",
   "metadata": {},
   "source": []
  }
 ],
 "metadata": {
  "interpreter": {
   "hash": "ce94be0b55b1a20fa85f7c0f50dba5baf56c6f1ab6e0bb60cb6ec53d5a610bf5"
  },
  "kernelspec": {
   "display_name": "Python 3.7.6 ('base')",
   "language": "python",
   "name": "python3"
  },
  "language_info": {
   "codemirror_mode": {
    "name": "ipython",
    "version": 3
   },
   "file_extension": ".py",
   "mimetype": "text/x-python",
   "name": "python",
   "nbconvert_exporter": "python",
   "pygments_lexer": "ipython3",
   "version": "3.7.6"
  },
  "orig_nbformat": 4
 },
 "nbformat": 4,
 "nbformat_minor": 2
}
