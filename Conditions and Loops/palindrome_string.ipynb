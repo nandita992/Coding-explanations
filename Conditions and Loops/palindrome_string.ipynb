{
 "cells": [
  {
   "cell_type": "markdown",
   "metadata": {},
   "source": [
    "<b>Write a program to determine if given number is palindrome or not. Print true if it is palindrome, false otherwise.<b/>"
   ]
  },
  {
   "cell_type": "markdown",
   "metadata": {},
   "source": [
    "Palindrome are the numbers for which reverse is exactly same as the original one. For eg. 121"
   ]
  },
  {
   "cell_type": "code",
   "execution_count": null,
   "metadata": {},
   "outputs": [],
   "source": [
    "num=int(input())\n",
    "temp=num\n",
    "rev=0\n",
    "while(num>0):\n",
    "    dig=num%10\n",
    "    rev=rev*10+dig\n",
    "    num=num//10\n",
    "if(temp==rev):\n",
    "    print(\"true\")\n",
    "else:\n",
    "    print(\"false\")"
   ]
  },
  {
   "cell_type": "markdown",
   "metadata": {},
   "source": [
    "<b>In simple english jargon <b/>"
   ]
  },
  {
   "cell_type": "markdown",
   "metadata": {},
   "source": [
    "\n",
    "\n",
    "1.num = int(input())    <p style=\"color:MediumSeaGreen;\">The code wants an input from the user </p>\n",
    "\n",
    "2. temp = num <p style=\"color:MediumSeaGreen;\">Copied num in another container </p> \n",
    "rev = 0 <p style=\"color:MediumSeaGreen;\">Till now my reverse string is 0 or empy </p> \n",
    "\n",
    "3. while num > 0  <p style=\"color:MediumSeaGreen;\"> Continue this code till the time my number is more than 0. The reason we have implied more than 0 is because we would be dividing the numbers and thus decreasing it in future. </p> \n",
    "\n",
    "** Check out my reverse string code, where i have explained how do we take reverse.**\n",
    "\n",
    "4. if(temp==rev):\n",
    "    print(\"true\")\n",
    "\n",
    "<p style=\"color:MediumSeaGreen;\">If the resverse string is equal to the temp number, then it's a palindrome number else it not </p> \n",
    "\n",
    "\n",
    "<h1 style=\"color:Tomato;\">In python, indentation means we are entering or exiting the loop!</h1>\n"
   ]
  },
  {
   "cell_type": "markdown",
   "metadata": {},
   "source": []
  }
 ],
 "metadata": {
  "interpreter": {
   "hash": "ce94be0b55b1a20fa85f7c0f50dba5baf56c6f1ab6e0bb60cb6ec53d5a610bf5"
  },
  "kernelspec": {
   "display_name": "Python 3.7.6 ('base')",
   "language": "python",
   "name": "python3"
  },
  "language_info": {
   "codemirror_mode": {
    "name": "ipython",
    "version": 3
   },
   "file_extension": ".py",
   "mimetype": "text/x-python",
   "name": "python",
   "nbconvert_exporter": "python",
   "pygments_lexer": "ipython3",
   "version": "3.7.6"
  },
  "orig_nbformat": 4
 },
 "nbformat": 4,
 "nbformat_minor": 2
}
