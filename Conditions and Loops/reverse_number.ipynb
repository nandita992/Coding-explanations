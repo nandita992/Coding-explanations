{
 "cells": [
  {
   "cell_type": "markdown",
   "metadata": {},
   "source": [
    "<b>Write a program to generate the reverse of a given number N. Print the corresponding reverse number.<b/>"
   ]
  },
  {
   "cell_type": "markdown",
   "metadata": {},
   "source": [
    "Note : If a number has trailing zeros, then its reverse will not include them. For e.g., reverse of 10400 will be 401 instead of 00401."
   ]
  },
  {
   "cell_type": "code",
   "execution_count": null,
   "metadata": {},
   "outputs": [],
   "source": [
    "num = int(input())\n",
    "rev = 0\n",
    "while num > 0:\n",
    "  rem = num % 10  # Finding the remainder\n",
    "  rev = (rev*10) + rem\n",
    "  num = num//10  # Finding the quotient\n",
    "print(\"%d \" %rev)"
   ]
  },
  {
   "cell_type": "markdown",
   "metadata": {},
   "source": [
    "<b>In simple english jargon <b/>"
   ]
  },
  {
   "cell_type": "markdown",
   "metadata": {},
   "source": [
    "\n",
    "\n",
    "1.num = int(input())    <p style=\"color:MediumSeaGreen;\">The code wants an input from the user </p>\n",
    "\n",
    "2. rev = 0 <p style=\"color:MediumSeaGreen;\">Till now my reverse string is 0 or empy </p> \n",
    "\n",
    "3. while num > 0  <p style=\"color:MediumSeaGreen;\"> Continue this code till the time my number is more than 0. The reason we have implied more than 0 is because we would be dividing the numbers and thus decreasing it in future. </p> \n",
    "\n",
    "4. rem = num % 10 <p style=\"color:MediumSeaGreen;\">If that number is more than 0, we enter the loop by using right indetation, and divide that number by 10. Once we divide the number by 10, we get it's last digit which we store it in a new container called \"rem\". </p> \n",
    "\n",
    "5. rev = (rev*10) + rem <p style=\"color:MediumSeaGreen;\">Now we update that new number in reverse string. So now that number is in ones place. we need to shift it to ten's place to make space for the new number. For example if we get 5 as our number and then next number is 4. We want 54. Thus we need to shift 5 to tens place and not just add 5+4 = 9 which would be incorrect. So for now reverse is 0, 0*10 is 0 and then add the number 5 to it. But in next loop when we get 4, we would then multiple 5*10 +4 to get 54 </p> \n",
    "\n",
    "6. num = num//10  <p style=\"color:MediumSeaGreen;\">Now we need to depracate our number other wise we would keep extracting the same number. So we divide the number, to get it's quotient which becomes our new number</p> \n",
    "\n",
    "Example n=415, 415 <0? True, we enter the block, and divide 415 by 10. We recevie it's remainder as 5. Now we add 5 to our reverse string. Then we do floor division of 415//10 to get number 41. Now our new number is 41. We again divide 41 by 10, and get 1 as our remainder. Now to add it to our string we do 5*10+1 and get 51. We divide 41//10 and receive our new number as 4. 4<0? True, we against performt the calculation. But when we do the floor division 4//10, we get 0.4. Now in int form 0.4<0? False. So we exit the loop and and print the reverse. \n",
    "\n",
    "<h1 style=\"color:Tomato;\">In python, indentation means we are entering or exiting the loop!</h1>\n"
   ]
  },
  {
   "cell_type": "markdown",
   "metadata": {},
   "source": []
  }
 ],
 "metadata": {
  "interpreter": {
   "hash": "ce94be0b55b1a20fa85f7c0f50dba5baf56c6f1ab6e0bb60cb6ec53d5a610bf5"
  },
  "kernelspec": {
   "display_name": "Python 3.7.6 ('base')",
   "language": "python",
   "name": "python3"
  },
  "language_info": {
   "codemirror_mode": {
    "name": "ipython",
    "version": 3
   },
   "file_extension": ".py",
   "mimetype": "text/x-python",
   "name": "python",
   "nbconvert_exporter": "python",
   "pygments_lexer": "ipython3",
   "version": "3.7.6"
  },
  "orig_nbformat": 4
 },
 "nbformat": 4,
 "nbformat_minor": 2
}
