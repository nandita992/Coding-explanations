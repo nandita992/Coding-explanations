{
 "cells": [
  {
   "cell_type": "markdown",
   "metadata": {},
   "source": [
    "<b>Given three values - Start Fahrenheit Value (S), End Fahrenheit value (E) and Step Size (W), you need to convert all Fahrenheit values from Start to End at the gap of W, into their corresponding Celsius values and print the table.<b/>"
   ]
  },
  {
   "cell_type": "code",
   "execution_count": 2,
   "metadata": {},
   "outputs": [
    {
     "name": "stdout",
     "output_type": "stream",
     "text": [
      "0 -17\n",
      "20 -6\n",
      "40 4\n",
      "60 15\n",
      "80 26\n",
      "100 37\n"
     ]
    }
   ],
   "source": [
    "s = int(input())\n",
    "e = int(input())\n",
    "w = int(input())\n",
    "\n",
    "\n",
    "while s<=e:\n",
    "    c = (s-32)* 5/9 \n",
    "    print('{0} {1}'.format(s,int(c)))\n",
    "    s=s+w"
   ]
  },
  {
   "cell_type": "markdown",
   "metadata": {},
   "source": [
    "<b>In simple english jargon <b/>"
   ]
  },
  {
   "cell_type": "markdown",
   "metadata": {},
   "source": [
    "\n",
    "\n",
    "1.  star = int(input())\n",
    "<br>\n",
    "end = int(input())\n",
    "<br>\n",
    "step_size = int(input())    <p style=\"color:MediumSeaGreen;\">Give me the starting, ending and how much jump or increment do i need. </p>\n",
    "\n",
    "2. while s<=e <p style=\"color:MediumSeaGreen;\">Till the time step size is less than the end size, meaning till the time we have not openned all our fingers till n we need to keep repeating this line of code.</p> \n",
    "\n",
    "3. c = (s-32)* 5/9  <p style=\"color:MediumSeaGreen;\"> So as soon as any number comes to the code, the code will perform the calculation to convert the farhaneit to celcius value and store that calculation in a variable called C </p> \n",
    "4. print('{0} {1}'.format(s,int(c)))  <p style=\"color:MediumSeaGreen;\">Then we would print the farhaneit value and it's corresponding celcius value </p> \n",
    "\n",
    "5. s=s+w <p style=\"color:MediumSeaGreen;\">We would then increase the step size to as per the given input and that new number would be our new farhaneit number</p>\n",
    "\n",
    "6. We again go back to the first while condition and check if the number is less than end number. It true, we enter the loop\n",
    "\n",
    "\n",
    "So for example our start = 0 , end = 200 and step size = 20. So now we start with 0, which is less than 200. So we enter the loop calculaye the conversion, store it in C and the print it. Next we increase our start number by 20, and again go to the while loop and check the condition if it's less than 200? and again perform all the instruction. \n",
    "\n",
    "<h1 style=\"color:Tomato;\">In python, indentation means we are exiting the loop!</h1>\n"
   ]
  }
 ],
 "metadata": {
  "interpreter": {
   "hash": "ce94be0b55b1a20fa85f7c0f50dba5baf56c6f1ab6e0bb60cb6ec53d5a610bf5"
  },
  "kernelspec": {
   "display_name": "Python 3.7.6 ('base')",
   "language": "python",
   "name": "python3"
  },
  "language_info": {
   "codemirror_mode": {
    "name": "ipython",
    "version": 3
   },
   "file_extension": ".py",
   "mimetype": "text/x-python",
   "name": "python",
   "nbconvert_exporter": "python",
   "pygments_lexer": "ipython3",
   "version": "3.9.10"
  },
  "orig_nbformat": 4
 },
 "nbformat": 4,
 "nbformat_minor": 2
}
