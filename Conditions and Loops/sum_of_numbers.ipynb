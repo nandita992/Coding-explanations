{
 "cells": [
  {
   "cell_type": "markdown",
   "metadata": {},
   "source": [
    "<b>Given an integer n, find and print the sum of numbers from 1 to n.<b/>"
   ]
  },
  {
   "cell_type": "code",
   "execution_count": 2,
   "metadata": {},
   "outputs": [
    {
     "name": "stdout",
     "output_type": "stream",
     "text": [
      "6\n"
     ]
    }
   ],
   "source": [
    "n = int(input())\n",
    "count = 1\n",
    "sums = 0\n",
    "\n",
    "while count<n+1 : \n",
    "    sums = sums+count\n",
    "    count = count+1\n",
    "print(sums)"
   ]
  },
  {
   "cell_type": "markdown",
   "metadata": {},
   "source": [
    "In simple english jargon:\n",
    "\n",
    "1.  n = int(input())    <p style=\"color:MediumSeaGreen;\">Give my code an input..</p>\n",
    "2. count =1 :  <p style=\"color:MediumSeaGreen;\">I am counting on my fingers starting from 1</p>\n",
    "3. sums = 0 <p style=\"color:MediumSeaGreen;\">My sum in my head is 0 till now. That is nothing has been added.</p> \n",
    "4. while count<n+1: <p style=\"color:MediumSeaGreen;\">Meaning that till the time my fingers counting has not reached n+1 keep repeating the set of codes below.</p> \n",
    "5. sums = sums+count <p style=\"color:MediumSeaGreen;\">When my count is 1, I will add 1 to my sum. Which is 0+1</p> \n",
    "6. count = count+1 <p style=\"color:MediumSeaGreen;\">I will now increase my count by 1 which will become 2. So now my second finger will come up.</p> \n",
    "7. Now again sum = sum+count means previously my sum was 1, Now i will add 2 to it. And i will keep repeating this code till the time all my fingers have not openned n times. \n",
    "\n",
    "We are using n+1 because we are using more than and not more than equal to sign. \n",
    "\n",
    "So, if my input is 3, my n+1 = 4. So i will have to open my fingers less than 4. Less than 4 is 3. So i openned my first finger and said loudly \"1\". I then add 1 to my sums mentally. Then I increase my count and open the second finger and again mentally add 2 to my previous sums which was 1, which now becomes 3. Then i shout \"3\" and open my 3rd finger. I then add 3 to my sum mentally and now it's 6. As soon as i open my 4th finger, I would need to stop and exit the command and print the sums. Because the initial condition was that i can open my finger till my count was less than 4 and not equal to.  "
   ]
  },
  {
   "cell_type": "markdown",
   "metadata": {},
   "source": []
  }
 ],
 "metadata": {
  "interpreter": {
   "hash": "ce94be0b55b1a20fa85f7c0f50dba5baf56c6f1ab6e0bb60cb6ec53d5a610bf5"
  },
  "kernelspec": {
   "display_name": "Python 3.7.6 ('base')",
   "language": "python",
   "name": "python3"
  },
  "language_info": {
   "codemirror_mode": {
    "name": "ipython",
    "version": 3
   },
   "file_extension": ".py",
   "mimetype": "text/x-python",
   "name": "python",
   "nbconvert_exporter": "python",
   "pygments_lexer": "ipython3",
   "version": "3.7.6"
  },
  "orig_nbformat": 4
 },
 "nbformat": 4,
 "nbformat_minor": 2
}
