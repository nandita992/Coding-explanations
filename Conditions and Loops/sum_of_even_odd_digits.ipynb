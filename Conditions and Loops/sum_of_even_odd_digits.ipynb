{
 "cells": [
  {
   "cell_type": "markdown",
   "metadata": {},
   "source": [
    "<b>Write a program to input an integer N and print the sum of all its even digits and sum of all its odd digits separately.<b/>"
   ]
  },
  {
   "cell_type": "markdown",
   "metadata": {},
   "source": [
    "Digits mean numbers, not the places! That is, if the given integer is \"13245\", even digits are 2 & 4 and odd digits are 1, 3 & 5."
   ]
  },
  {
   "cell_type": "code",
   "execution_count": null,
   "metadata": {},
   "outputs": [],
   "source": [
    "num = int(input())\n",
    "\n",
    "even = 0 \n",
    "odd = 0\n",
    "\n",
    "while num>0:\n",
    "    remainder = num%10\n",
    "    if remainder%2==0:\n",
    "        even = even+remainder\n",
    "    else:\n",
    "        odd = odd+remainder\n",
    "    num = num//10\n",
    "print(even,odd)"
   ]
  },
  {
   "cell_type": "markdown",
   "metadata": {},
   "source": [
    "<b>In simple english jargon <b/>"
   ]
  },
  {
   "cell_type": "markdown",
   "metadata": {},
   "source": [
    "\n",
    "\n",
    "1.num = int(input())    <p style=\"color:MediumSeaGreen;\">The code wants an input from the user </p>\n",
    "\n",
    "2. even = 0 <p style=\"color:MediumSeaGreen;\">even container is empty or at 0 </p> \n",
    "   odd = 0 <p style=\"color:MediumSeaGreen;\">odd container is empty or at 0 </p> \n",
    "\n",
    "3. while num > 0  <p style=\"color:MediumSeaGreen;\"> Continue this code till the time my input is more than 0. The reason we have implied more than 0 is because we would be dividing the numbers and thus decreasing it in future. </p> \n",
    "\n",
    "** Check out my reverse string code, where i have explained how do we take reverse.**\n",
    "\n",
    "4. if remainder = num%10 <p style=\"color:MediumSeaGreen;\">We wil extract the last digit of the number by dividing it by 10 </p> \n",
    "\n",
    "5. even = even+remainder <p style=\"color:MediumSeaGreen;\">If the last digit is even then we would add it to even container </p> \n",
    "\n",
    "6. odd = odd+remainder <p style=\"color:MediumSeaGreen;\">Else if it's odd, then we would add it to the odd container.  </p> \n",
    "\n",
    "7. num = num//10 <p style=\"color:MediumSeaGreen;\">In any which way, if it's even or odd, we would depracate the number and first two digits, as we already added the last digits to one of the container.  </p> \n",
    "\n",
    "8. As soon as the n becomes near 0, it will break from the loop and print the containers even and odd. \n",
    "\n",
    "Example: Digits = 415. 415>0? Yes 415%10 = 5 -- Is 5%2==0? no -- odd = 0+5 -- 415//10 = 45\n",
    "45>0? Yes 45%10 = 1 -- is 1%2==0? No -- odd = 5+2 -- 45//10 = 4\n",
    "4>0? Yes -- 4%10 = 4 -- is 4%2 ==0? yes -- even = 4+4=8 -- 4//10 = 0.4\n",
    "0.4>0? No Break out of the loop, and print even and odd\n",
    "\n",
    "\n",
    "<h1 style=\"color:Tomato;\">In python, indentation means we are entering or exiting the loop!</h1>\n"
   ]
  },
  {
   "cell_type": "markdown",
   "metadata": {},
   "source": []
  }
 ],
 "metadata": {
  "interpreter": {
   "hash": "ce94be0b55b1a20fa85f7c0f50dba5baf56c6f1ab6e0bb60cb6ec53d5a610bf5"
  },
  "kernelspec": {
   "display_name": "Python 3.7.6 ('base')",
   "language": "python",
   "name": "python3"
  },
  "language_info": {
   "codemirror_mode": {
    "name": "ipython",
    "version": 3
   },
   "file_extension": ".py",
   "mimetype": "text/x-python",
   "name": "python",
   "nbconvert_exporter": "python",
   "pygments_lexer": "ipython3",
   "version": "3.7.6"
  },
  "orig_nbformat": 4
 },
 "nbformat": 4,
 "nbformat_minor": 2
}
