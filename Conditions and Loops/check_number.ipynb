{
 "cells": [
  {
   "cell_type": "markdown",
   "metadata": {},
   "source": [
    "<b>Given an integer n, find if n is positive, negative or 0.\n",
    "<br>\n",
    "If n is positive, print \"Positive\"\n",
    "<br>\n",
    "If n is negative, print \"Negative\"\n",
    "<br>\n",
    "And if n is equal to 0, print \"Zero\".<b/>"
   ]
  },
  {
   "cell_type": "code",
   "execution_count": 2,
   "metadata": {},
   "outputs": [
    {
     "name": "stdout",
     "output_type": "stream",
     "text": [
      "Negative\n"
     ]
    }
   ],
   "source": [
    "n = int(input())\n",
    "\n",
    "if n==0:\n",
    "    print(\"Zero\")\n",
    "elif n>0:\n",
    "    print(\"Positive\")\n",
    "else:\n",
    "    print(\"Negative\")"
   ]
  },
  {
   "cell_type": "markdown",
   "metadata": {},
   "source": [
    "In simple english jargon:\n",
    "\n",
    "1. Give my code an input.\n",
    "2. if that input is 0, then I will print positive. If this is false then the code will ask another question\n",
    "3. if that input is less than 0, then I will print Positive. If this block code is not true also, then  \n",
    "4. if none of the above conditions are true, then I would print Negative.\n",
    "\n",
    "So, If i give my input at -2, then it will enter 1st line of code which is if my input==0? -2 is not equal to 0. So now it will enter the second block of code, that is the input is more than 0? -2 is not more than 0. Thus it will enter the third block of code and print negative. "
   ]
  }
 ],
 "metadata": {
  "interpreter": {
   "hash": "ce94be0b55b1a20fa85f7c0f50dba5baf56c6f1ab6e0bb60cb6ec53d5a610bf5"
  },
  "kernelspec": {
   "display_name": "Python 3.7.6 ('base')",
   "language": "python",
   "name": "python3"
  },
  "language_info": {
   "codemirror_mode": {
    "name": "ipython",
    "version": 3
   },
   "file_extension": ".py",
   "mimetype": "text/x-python",
   "name": "python",
   "nbconvert_exporter": "python",
   "pygments_lexer": "ipython3",
   "version": "3.7.6"
  },
  "orig_nbformat": 4
 },
 "nbformat": 4,
 "nbformat_minor": 2
}
