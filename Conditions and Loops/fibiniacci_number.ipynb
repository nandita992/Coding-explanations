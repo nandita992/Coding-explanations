{
 "cells": [
  {
   "cell_type": "markdown",
   "metadata": {},
   "source": [
    "<b>Nth term of Fibonacci series F(n), where F(n) is a function, is calculated using the following formula -     F(n) = F(n-1) + F(n-2), Where, F(1) = F(2) = 1. Check whether a number is a member of fibinacci series of not. <b/>"
   ]
  },
  {
   "cell_type": "markdown",
   "metadata": {},
   "source": [
    "Now the number is ‘6’ so we have to find the “6th” Fibonacci number\n",
    "So by using the property of the Fibonacci series i.e \n",
    "\n",
    "[ 1, 1, 2, 3, 5, 8]\n",
    "So the “6th” element is “8” hence we get the output."
   ]
  },
  {
   "cell_type": "code",
   "execution_count": null,
   "metadata": {},
   "outputs": [],
   "source": [
    "fib = int(input())\n",
    "sums=0\n",
    "num1 = 1\n",
    "num2 = 1\n",
    "i = 3\n",
    "\n",
    "if fib==1 or fib==2:\n",
    "    print('1')\n",
    "else:\n",
    "    while i<=fib:\n",
    "        num3 = num1+num2\n",
    "        num1 = num2\n",
    "        num2 = num3\n",
    "        i = i+1\n",
    "    print(num3)"
   ]
  },
  {
   "cell_type": "markdown",
   "metadata": {},
   "source": [
    "<b>In simple english jargon <b/>"
   ]
  },
  {
   "cell_type": "markdown",
   "metadata": {},
   "source": [
    "\n",
    "\n",
    "1.num = int(input())    <p style=\"color:MediumSeaGreen;\">The code wants an input from the user </p>\n",
    "\n",
    "2. sum1 = 0 <p style=\"color:MediumSeaGreen;\">even container is empty or at 0 </p> \n",
    "   num1 = 0 <p style=\"color:MediumSeaGreen;\">odd container is empty or at 0 </p> \n",
    "   num2 = 0\n",
    "   i = 3 <p style=\"color:MediumSeaGreen;\">we are starting our count from 3, because the first two numbers already have  1 as their answer given to us </p> \n",
    "\n",
    "3. if fib==1 or fib==2:\n",
    "<br>\n",
    "    print('1') <p style=\"color:MediumSeaGreen;\"> Is number 1 or 2. If they are, straight away declare that the answer as 1 and if not, then jump onto next condition.  </p> \n",
    "\n",
    "\n",
    "4. while i<=fib: <p style=\"color:MediumSeaGreen;\">if that's not true, then while count is less than the number. So now we are starting from the third number. And till the time our starting value is less than out input we need to contine </p> \n",
    "\n",
    "5.num3 = num1+num2 <p style=\"color:MediumSeaGreen;\">We need to add previous two numbers and store it in container 3. So out count 3 is container 3. </p> \n",
    "\n",
    "6. num1 = num2 <p style=\"color:MediumSeaGreen;\">our num 2 becomes number 1 </p> \n",
    "\n",
    "7. num2 = num3 <p style=\"color:MediumSeaGreen;\">And our container 3 becomes number 2. Now we would add these two numbers in our next iteration  </p> \n",
    "\n",
    "8. i = i+1  <p style=\"color:MediumSeaGreen;\">We then increment our count digit to 4 and repeat the process  </p> \n",
    "\n",
    "\n",
    "Here the count is the position place. So if my input is 6, that means at 6th position the fibinacci number present is 8. \n",
    "\n",
    "Example: 4\n",
    "Now 4 is not equal to 1 and 2, so we go into else block. So num1 which F(1) and F(1) at second postion, we need to add them. 1+1 = 2. Now num2 2 becomes num1 container and num3 . then 2+3 = 5. % is at position 4.\n",
    "\n",
    "1+1 = 2\n",
    "1+2 = 2\n",
    "2+2 = 4\n",
    "4+2 = 6\n",
    "\n",
    "<h1 style=\"color:Tomato;\">In python, indentation means we are entering or exiting the loop!</h1>\n"
   ]
  },
  {
   "cell_type": "markdown",
   "metadata": {},
   "source": []
  }
 ],
 "metadata": {
  "interpreter": {
   "hash": "ce94be0b55b1a20fa85f7c0f50dba5baf56c6f1ab6e0bb60cb6ec53d5a610bf5"
  },
  "kernelspec": {
   "display_name": "Python 3.7.6 ('base')",
   "language": "python",
   "name": "python3"
  },
  "language_info": {
   "codemirror_mode": {
    "name": "ipython",
    "version": 3
   },
   "file_extension": ".py",
   "mimetype": "text/x-python",
   "name": "python",
   "nbconvert_exporter": "python",
   "pygments_lexer": "ipython3",
   "version": "3.7.6"
  },
  "orig_nbformat": 4
 },
 "nbformat": 4,
 "nbformat_minor": 2
}
