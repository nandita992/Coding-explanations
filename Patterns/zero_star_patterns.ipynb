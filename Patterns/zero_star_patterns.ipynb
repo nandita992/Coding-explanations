{
 "cells": [
  {
   "cell_type": "markdown",
   "metadata": {},
   "source": [
    "\n",
    "<br>\n",
    "\n",
    "^000^000^  \n",
    "0^00^00^0\n",
    "<br>\n",
    "00^0^0^00\n",
    "<br>\n",
    "000^000\n",
    "\n"
   ]
  },
  {
   "cell_type": "code",
   "execution_count": 3,
   "metadata": {},
   "outputs": [
    {
     "name": "stdout",
     "output_type": "stream",
     "text": [
      "*000*000*\n",
      "0*00*00*0\n",
      "00*0*0*00\n",
      "000***000\n"
     ]
    }
   ],
   "source": [
    "n = int(input())\n",
    "row_count = 1\n",
    "star_col = 1\n",
    "while row_count <= n: # this loop is to print the outer rows 1 to n\n",
    "    col_count = 1 # this is the starting of the col count\n",
    "    while col_count <= 2*n + 1: # so it's saying start from 1 and go till 7, because this pattern is assymetric\n",
    "        if star_col == row_count and star_col == col_count: # so if column number of star == row_count 1=1 and 1 = 1 \n",
    "            print('*', end=\"\") # print *. This is for the diagonal lhs triangle star\n",
    "            star_col = star_col + 1 # and then we increment the star column count by 1\n",
    "\n",
    "        elif col_count == n + 1 or col_count == 2*n+2 - row_count:# col_count is 4+1=5 or 2*4+2-1 = 9\n",
    "            print('*', end=\"\") # print stars\n",
    "        else:\n",
    "            print(0, end=\"\") # and for every other thing, print 0\n",
    "        col_count = col_count + 1 # we then keep incrementing the col_count\n",
    "    print()\n",
    "    row_count = row_count + 1\n",
    "\n",
    "    # for patterns like these, we have to make a grid and then make combinations as where all stars and 0 are forming."
   ]
  },
  {
   "cell_type": "markdown",
   "metadata": {},
   "source": [
    "<h1 style=\"color:DodgerBlue;\">In python, Indetation means coming in or out of the loop</h1>"
   ]
  }
 ],
 "metadata": {
  "interpreter": {
   "hash": "ce94be0b55b1a20fa85f7c0f50dba5baf56c6f1ab6e0bb60cb6ec53d5a610bf5"
  },
  "kernelspec": {
   "display_name": "Python 3.7.6 ('base')",
   "language": "python",
   "name": "python3"
  },
  "language_info": {
   "codemirror_mode": {
    "name": "ipython",
    "version": 3
   },
   "file_extension": ".py",
   "mimetype": "text/x-python",
   "name": "python",
   "nbconvert_exporter": "python",
   "pygments_lexer": "ipython3",
   "version": "3.7.6"
  },
  "orig_nbformat": 4
 },
 "nbformat": 4,
 "nbformat_minor": 2
}
