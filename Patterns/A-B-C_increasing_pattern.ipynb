{
 "cells": [
  {
   "cell_type": "markdown",
   "metadata": {},
   "source": [
    "Print the following pattern for the given N number of rows.\n",
    "<br>\n",
    "\n",
    "A\n",
    "<br>\n",
    "BB\n",
    "<br>\n",
    "CCC\n",
    "<br>\n",
    "\n"
   ]
  },
  {
   "cell_type": "code",
   "execution_count": 1,
   "metadata": {},
   "outputs": [
    {
     "name": "stdout",
     "output_type": "stream",
     "text": [
      "A\n",
      "BB\n",
      "CCC\n"
     ]
    }
   ],
   "source": [
    "# Here the number of rows is diffrent from the starting number of the series thus we would have to take \n",
    "#diffrent variable.\n",
    "\n",
    "total_row = int(input()) # We first tak the input of how many rows we need to print in the answer\n",
    "alpha = 65 # What is the first digit or alphabet of the series.\n",
    "row_count = 1 # row_count is counting how many rows till we stop\n",
    "while row_count<=total_row:# So it will pricnt * till total_row number with =+1 increment\n",
    "    col_count = 1\n",
    "    while col_count<=row_count: # Now we are specifying that for the first row first alphabet what we want to do\n",
    "        # thus 2nd row will have 2 columns only\n",
    "        print(chr(alpha),end='')# and the move the curson the second alphabet.\n",
    "        col_count=col_count+1# as we move the cursor we also increase the colunn count to know where to stop\n",
    "        # While we keep printing the digits till the count reaches tota_rows number as they are same. Because the \n",
    "        #alphabets are same, thus we don't need to increment it. We need to print the same. \n",
    "    row_count = row_count+1 # While it keeps printing the same alphabet till it reaches the limit and then breaks \n",
    "    #of the loop. It then increases the row_count \n",
    "    print() # and moves the cursor to the second line.\n",
    "    alpha = alpha+1 # With this it also increments the alphabet to next"
   ]
  },
  {
   "cell_type": "markdown",
   "metadata": {},
   "source": [
    "In this pattern, the triangle is increasing. But each row has a diffrent alphabet. Thus we can take each alphabet as 1,2 and 3 and then convert them later. The number of digits in each row is same as the row count also.\n",
    "\n",
    "So when n = 3, it means it will have 3 rows and 3 columns in increasing order. So, we start with row count as 1, while 1 is less than 3 for the row loop, we enter the loop and keep printing the loop. We also declare the column count as 1. So as the col count which is 1 is equal to or less than the row count which is 1, keep printing the row count as 1. we will keep incrementing the col count by 1. Now in the first row column count == row count, thus we would exit the loop and come into the row count loop, increase the row_count by 1 and also move our cursor to the next line. After this we would also increase our number by 1 and now we will print 2. "
   ]
  },
  {
   "cell_type": "markdown",
   "metadata": {},
   "source": [
    "<h1 style=\"color:DodgerBlue;\">In python, Indetation means coming in or out of the loop</h1>"
   ]
  },
  {
   "cell_type": "markdown",
   "metadata": {},
   "source": []
  }
 ],
 "metadata": {
  "interpreter": {
   "hash": "ce94be0b55b1a20fa85f7c0f50dba5baf56c6f1ab6e0bb60cb6ec53d5a610bf5"
  },
  "kernelspec": {
   "display_name": "Python 3.7.6 ('base')",
   "language": "python",
   "name": "python3"
  },
  "language_info": {
   "codemirror_mode": {
    "name": "ipython",
    "version": 3
   },
   "file_extension": ".py",
   "mimetype": "text/x-python",
   "name": "python",
   "nbconvert_exporter": "python",
   "pygments_lexer": "ipython3",
   "version": "3.7.6"
  },
  "orig_nbformat": 4
 },
 "nbformat": 4,
 "nbformat_minor": 2
}
