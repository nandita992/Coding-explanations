{
 "cells": [
  {
   "cell_type": "code",
   "execution_count": 1,
   "metadata": {},
   "outputs": [
    {
     "name": "stdout",
     "output_type": "stream",
     "text": [
      "4\n",
      "1\n",
      "21\n",
      "321\n",
      "4321\n"
     ]
    }
   ],
   "source": [
    "num = int(input())\n",
    "row = 1\n",
    "\n",
    "while row<=num:\n",
    "    col=1\n",
    "    while col<=row:\n",
    "        print(row-col+1,end=\"\")\n",
    "        col = col+1\n",
    "    row = row+1\n",
    "    print()"
   ]
  },
  {
   "cell_type": "markdown",
   "metadata": {},
   "source": [
    "<span class=\"mark\">1. num = int(input())</span>\n",
    "\n",
    "The code is asking for an input from the user.\n",
    "\n",
    "<span class=\"mark\">2. row = 1</span>\n",
    "We are specifying that the row count we are starting from is 1.\n",
    "\n",
    "<span class=\"mark\">3. while row<=num:</span>\n",
    "This is to specify that till the time row is less than the number we should keep printing it and when it's equal to the number, we need to break out of the loop. \n",
    "\n",
    "<span class=\"mark\">4. col=1</span>\n",
    "Now inside the row loop, we are specifying the column name. \n",
    "\n",
    "<span class=\"mark\">5. while col<=row:</span>\n",
    "Now till the time column is less or equal to the row number keep printing. So if row is 1, the the columns it will print will also be 1. \n",
    "\n",
    "<span class=\"mark\">6. print(row-col+1,end=\"\")</span>\n",
    "This tells the code what to print and where to print. the formula row-col+1 is if for example we are on second row and first column, then 2-1+1 = 2, so we print 2 and then state that cursor to should move horizontally by using end=\"\". \n",
    "\n",
    "<span class=\"mark\">7. col = col+1</span>\n",
    "Then we move the col count by 1. We need to do this because end=\"\" doesnt know where to stop, so col will keep track of when to break as we have a condition assigned. The loop will start again from 2 and the condition is it has to be less than the row number.\n",
    "\n",
    "<span class=\"mark\">8. row = row+1</span>\n",
    "As soon as the condition is broken, the code snippet jumps out of the loop, and increases the row count\n",
    "\n",
    "<span class=\"mark\">9. print()</span>\n",
    "Then we instruct our cursor to go till the next line and start the while loop again.\n",
    "\n",
    "The minute the row count is equal to the input, we would break out of the loop and do nothing.\n",
    "\n",
    "So if we have input as 4, then we would print 4 rows. And each row has exactly same number of digits as the row count\n"
   ]
  }
 ],
 "metadata": {
  "kernelspec": {
   "display_name": "Python 3",
   "language": "python",
   "name": "python3"
  },
  "language_info": {
   "codemirror_mode": {
    "name": "ipython",
    "version": 3
   },
   "file_extension": ".py",
   "mimetype": "text/x-python",
   "name": "python",
   "nbconvert_exporter": "python",
   "pygments_lexer": "ipython3",
   "version": "3.7.6"
  },
  "toc": {
   "base_numbering": 1,
   "nav_menu": {},
   "number_sections": true,
   "sideBar": true,
   "skip_h1_title": false,
   "title_cell": "Table of Contents",
   "title_sidebar": "Contents",
   "toc_cell": false,
   "toc_position": {},
   "toc_section_display": true,
   "toc_window_display": false
  }
 },
 "nbformat": 4,
 "nbformat_minor": 4
}
