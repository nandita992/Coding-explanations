{
 "cells": [
  {
   "cell_type": "markdown",
   "metadata": {},
   "source": [
    "Print the following pattern for the given N number of rows.\n",
    "<br>\n",
    "\n",
    "###1  \n",
    "##12\n",
    "<br>\n",
    "#123\n",
    "<br>\n",
    "1234\n"
   ]
  },
  {
   "cell_type": "code",
   "execution_count": 6,
   "metadata": {},
   "outputs": [
    {
     "name": "stdout",
     "output_type": "stream",
     "text": [
      "   1\n",
      "  12\n",
      " 123\n",
      "1234\n"
     ]
    }
   ],
   "source": [
    "total_rows = int(input())\n",
    "row_count = 1\n",
    "digit_count=1\n",
    "\n",
    "while row_count<=total_rows:\n",
    "    spaces=1\n",
    "    while spaces<=total_rows-row_count:\n",
    "        print(\" \", end=\"\")\n",
    "        spaces = spaces+1\n",
    "    digit = 1\n",
    "    while digit <=row_count:\n",
    "        print(digit, end=\"\")\n",
    "        digit +=1\n",
    "        digit_count = digit_count+1    \n",
    "    print()\n",
    "    row_count = row_count+1"
   ]
  },
  {
   "cell_type": "markdown",
   "metadata": {},
   "source": [
    "In this patter if our total_rows is 4, so we would print 4 columns and 4 rows. We even need to print the space as python wont automatically take it. So all the number starts from 1 but ends at the row count number only. Number of spaces is total_rows - row_count for each row.\n",
    "So we intialize the row_count as 1 and also the starting digit as 1. We would first print spaces and then rows\n",
    "\n",
    "Example: total_rows = 4. row count 1 is less than 4, we enter the loop. We declare the space count as 1, so till the time space count is less than 4-1 = 3. So we keep printing space and keep incrementing the space cursor by 1. When the while loop for spaces reach 3, we break from that loop and enter another loop for printing digits. we declare the starting digit as 1. So while starting digit is less or equal to the row_count which is 1, we keep printing the digit. We will also increment our digit_count or the cursor by 1 and keep printing digits till the condition is not met.\n",
    "\n",
    "When the condition is met, we would break out of the loop and go to the next line. So we have moved our cursor to the next line and also increased our row_count."
   ]
  },
  {
   "cell_type": "markdown",
   "metadata": {},
   "source": [
    "<h1 style=\"color:DodgerBlue;\">In python, Indetation means coming in or out of the loop</h1>"
   ]
  },
  {
   "cell_type": "markdown",
   "metadata": {},
   "source": []
  }
 ],
 "metadata": {
  "interpreter": {
   "hash": "ce94be0b55b1a20fa85f7c0f50dba5baf56c6f1ab6e0bb60cb6ec53d5a610bf5"
  },
  "kernelspec": {
   "display_name": "Python 3.7.6 ('base')",
   "language": "python",
   "name": "python3"
  },
  "language_info": {
   "codemirror_mode": {
    "name": "ipython",
    "version": 3
   },
   "file_extension": ".py",
   "mimetype": "text/x-python",
   "name": "python",
   "nbconvert_exporter": "python",
   "pygments_lexer": "ipython3",
   "version": "3.8.9"
  },
  "orig_nbformat": 4
 },
 "nbformat": 4,
 "nbformat_minor": 2
}
