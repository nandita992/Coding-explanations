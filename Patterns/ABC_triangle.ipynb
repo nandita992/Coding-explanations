{
 "cells": [
  {
   "cell_type": "markdown",
   "metadata": {},
   "source": [
    "Print the following pattern for the given N number of rows.\n",
    "<br>\n",
    "\n",
    "A\n",
    "<br>\n",
    "BC\n",
    "<br>\n",
    "CDE\n",
    "<br>\n",
    "DEFG\n"
   ]
  },
  {
   "cell_type": "code",
   "execution_count": 1,
   "metadata": {},
   "outputs": [
    {
     "name": "stdout",
     "output_type": "stream",
     "text": [
      "A\n",
      "BC\n",
      "CDE\n",
      "DEFG\n"
     ]
    }
   ],
   "source": [
    "n = int(input())\n",
    "row=1\n",
    "temp = 1\n",
    "\n",
    "while row<=n:\n",
    "    col=1\n",
    "    while col<=row:\n",
    "        print(chr(64+row+col-1), end=\"\")\n",
    "        \n",
    "        col = col+1\n",
    "    row = row+1\n",
    "    print()"
   ]
  },
  {
   "cell_type": "markdown",
   "metadata": {},
   "source": [
    "<p style=\"color:Tomato;\">1. n = int(input())</p>\n",
    "\n",
    "The algorithm wants some input from the user. \n",
    "\n",
    "<p style=\"color:Tomato;\">2. row = 1</p>\n",
    "\n",
    "We specify the starting point of row as 1\n",
    "\n",
    "<p style=\"color:Tomato;\">3. while row<=n: </p>\n",
    "\n",
    "We want rows to be 4 as n, So we start from row 1 and go until the row is 4. So while says repeat all the codes till the time row count reach 4. So, if the row is 1, it enters the loop. So this will print row wise. If n is 4, it will prin * vertically.\n",
    "\n",
    "<p style=\"color:Tomato;\">4. col=1 </p>\n",
    "\n",
    "So in reach row we want to print column wise. So we say the col starts from 1.\n",
    "\n",
    "<p style=\"color:Tomato;\">5. while col<=row: </p>\n",
    "\n",
    "In the pattern we see that every row, has exactly the same number of digits. So, this line of code is saying that print till the time col count is less than row count. \n",
    "\n",
    "<p style=\"color:Tomato;\">6. print(chr(64+row+col-1), end=\"\") </p>\n",
    "Print the digits, and instruct the cursor to move to the next column. \n",
    "\n",
    "<p style=\"color:Tomato;\">7. col = col+1  </p>\n",
    "As we move our cursor, we increase the column count also to know where to stop. After this line of code, it moves again to the while col<=n loop. As soon as the column loop stops when column number exceeds the row number. \n",
    "\n",
    "<p style=\"color:Tomato;\">8. row = row+1  </p>\n",
    "As soon as it breaks from the column loop, it goes into the row loop and increases the loop to +1. \n",
    "\n",
    " <p style=\"color:Tomato;\">9. print()</p>\n",
    "After we increase the row count, we move our cursor to the next line and enter the while loop again. \n"
   ]
  },
  {
   "cell_type": "markdown",
   "metadata": {},
   "source": []
  }
 ],
 "metadata": {
  "interpreter": {
   "hash": "ce94be0b55b1a20fa85f7c0f50dba5baf56c6f1ab6e0bb60cb6ec53d5a610bf5"
  },
  "kernelspec": {
   "display_name": "Python 3.7.6 ('base')",
   "language": "python",
   "name": "python3"
  },
  "language_info": {
   "codemirror_mode": {
    "name": "ipython",
    "version": 3
   },
   "file_extension": ".py",
   "mimetype": "text/x-python",
   "name": "python",
   "nbconvert_exporter": "python",
   "pygments_lexer": "ipython3",
   "version": "3.7.6"
  },
  "orig_nbformat": 4
 },
 "nbformat": 4,
 "nbformat_minor": 2
}
