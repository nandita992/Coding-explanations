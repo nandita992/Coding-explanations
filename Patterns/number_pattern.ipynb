{
 "cells": [
  {
   "cell_type": "markdown",
   "metadata": {},
   "source": [
    "Isoclese triangle\n",
    "<br>\n",
    "\n",
    "1........1  \n",
    "12......21\n",
    "<br>\n",
    "123....321\n",
    "<br>\n",
    "1234..4321\n",
    "<br>\n",
    "1234554321\n"
   ]
  },
  {
   "cell_type": "code",
   "execution_count": 2,
   "metadata": {},
   "outputs": [
    {
     "name": "stdout",
     "output_type": "stream",
     "text": [
      "   1\n",
      "  232\n",
      " 34543\n",
      "4567654\n"
     ]
    }
   ],
   "source": [
    "total_rows = int(input())\n",
    "row_count = 1\n",
    "\n",
    "while row_count<=total_rows: # Left hand side of the triange\n",
    "    digits = 1 # our digit count and also the digit starts from 1. Because each row has same amount of digits\n",
    "    while digits<=row_count: # till the digits is less than the row count keep printing it. So digit is 1 and row count is 1 too\n",
    "        print(digits, end=\"\") # print the digit\n",
    "        digits +=1 # and we increase the digit.\n",
    "\n",
    "        # No. of digits is same as number of rows\n",
    "        \n",
    "    # LHS\n",
    "    space_count = 1 # now we print the spaces and declare space count as 1\n",
    "    while space_count<=total_rows-row_count: # While the space count is less than 4-1 = 3, print the spaces\n",
    "        print(\" \", end=\"\") # \" \" is to print space\n",
    "        space_count +=1 # and we increase the space count by 1\n",
    "\n",
    "        # The arrangement of code is diffrent as first we need digits, then space and then digits\n",
    "        \n",
    "    # RHS space\n",
    "    space_count = 1 # Now for the first row, we again print the spaces for the 1st row and start our space count from 1\n",
    "    while space_count<=total_rows-row_count: # 1 is less than 4-1=3. So in total we have 6 spaces in the first row\n",
    "        print(\" \", end=\"\")\n",
    "        space_count +=1\n",
    "    \n",
    "    # RHS digits\n",
    "    digit_count = row_count # So number of digits in the rhs is equal to the row_count, hence we didnt declare it 1\n",
    "    while digit_count>=1: # so for example, for second row, the digit count would be 2 and so it will start from 2\n",
    "        print(digit_count, end=\"\") # we print the digit count and then keep decreasing the digit count by 1\n",
    "        digit_count -=1\n",
    "        \n",
    "    # All of this code is for one row. We then get out of this loop and move our cursor to next row and also increase our row count by 1\n",
    "    print()\n",
    "    row_count +=1"
   ]
  },
  {
   "cell_type": "markdown",
   "metadata": {},
   "source": [
    "<h1 style=\"color:DodgerBlue;\">In python, Indetation means coming in or out of the loop</h1>"
   ]
  }
 ],
 "metadata": {
  "interpreter": {
   "hash": "ce94be0b55b1a20fa85f7c0f50dba5baf56c6f1ab6e0bb60cb6ec53d5a610bf5"
  },
  "kernelspec": {
   "display_name": "Python 3.7.6 ('base')",
   "language": "python",
   "name": "python3"
  },
  "language_info": {
   "codemirror_mode": {
    "name": "ipython",
    "version": 3
   },
   "file_extension": ".py",
   "mimetype": "text/x-python",
   "name": "python",
   "nbconvert_exporter": "python",
   "pygments_lexer": "ipython3",
   "version": "3.7.6"
  },
  "orig_nbformat": 4
 },
 "nbformat": 4,
 "nbformat_minor": 2
}
