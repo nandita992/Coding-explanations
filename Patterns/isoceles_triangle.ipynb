{
 "cells": [
  {
   "cell_type": "markdown",
   "metadata": {},
   "source": [
    "Isoclese triangle\n",
    "<br>\n",
    "\n",
    "...^  \n",
    "..^^\n",
    "<br>\n",
    ".^^^^^\n",
    "<br>\n",
    "^^^^^^^\n"
   ]
  },
  {
   "cell_type": "code",
   "execution_count": 6,
   "metadata": {},
   "outputs": [
    {
     "name": "stdout",
     "output_type": "stream",
     "text": [
      "   1\n",
      "  12\n",
      " 123\n",
      "1234\n"
     ]
    }
   ],
   "source": [
    "# ISOCELES TRAINGLE\n",
    "\n",
    "total_rows= int(input()) # total rows we are going to have\n",
    "row_count = 1 # Starting point of our row\n",
    "while row_count<=total_rows: # Till 1 is less than 4, we enter this loop\n",
    "    # spaces # First we will print spaces\n",
    "    spaces = 1 # we declare the space count as 1\n",
    "    while spaces<=total_rows-row_count:# till space count is less than 4-1 = 3 we keep printing it\n",
    "        print(\" \",end=\"\") # \" \" is printing the space\n",
    "        spaces +=1 # Now we decrease the space count so in the next line it will be 4-2 = 2\n",
    "        # This loop keeps printing till the condition is met\n",
    "    #stars\n",
    "    stars_count=1 # So we start the stars counting from 1\n",
    "    while stars_count<=row_count: # So no. of stars is equal to the row_count, thus this condition\n",
    "        print(\"*\", end=\"\") # What to print? We print stars\n",
    "        stars_count +=1 # We keep incrementing the star colum\n",
    "        # As soon as each row condition is met, we will keep printing and then break out of the loop\n",
    "        \n",
    "    #decreasing stars - this is the right hand side of the stars\n",
    "    decreasing = 1 # We start the decreasing stars count by 1\n",
    "    while decreasing<=row_count-1: # So each row as row_count-1 stars. Thus, first row has 0 stars\n",
    "        print(\"*\", end=\"\") # What to print? We print stars\n",
    "        decreasing +=1 # we keep increasing the stars column\n",
    "    \n",
    "    print() # After this loop is done, we then move our cursor to the next row, \n",
    "    row_count +=1 # and also increase the row count by 1\n",
    "        "
   ]
  },
  {
   "cell_type": "markdown",
   "metadata": {},
   "source": [
    "<h1 style=\"color:DodgerBlue;\">In python, Indetation means coming in or out of the loop</h1>"
   ]
  },
  {
   "cell_type": "markdown",
   "metadata": {},
   "source": []
  }
 ],
 "metadata": {
  "interpreter": {
   "hash": "ce94be0b55b1a20fa85f7c0f50dba5baf56c6f1ab6e0bb60cb6ec53d5a610bf5"
  },
  "kernelspec": {
   "display_name": "Python 3.7.6 ('base')",
   "language": "python",
   "name": "python3"
  },
  "language_info": {
   "codemirror_mode": {
    "name": "ipython",
    "version": 3
   },
   "file_extension": ".py",
   "mimetype": "text/x-python",
   "name": "python",
   "nbconvert_exporter": "python",
   "pygments_lexer": "ipython3",
   "version": "3.8.9"
  },
  "orig_nbformat": 4
 },
 "nbformat": 4,
 "nbformat_minor": 2
}
