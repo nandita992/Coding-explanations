{
 "cells": [
  {
   "cell_type": "markdown",
   "metadata": {},
   "source": [
    "Print the following pattern\n",
    "<br>\n",
    "0\n",
    "<br>\n",
    "00\n",
    "<br>\n",
    "000\n",
    "<br>\n",
    "0000\n",
    "<br>"
   ]
  },
  {
   "cell_type": "code",
   "execution_count": 1,
   "metadata": {},
   "outputs": [
    {
     "name": "stdout",
     "output_type": "stream",
     "text": [
      "*\n",
      "**\n",
      "***\n",
      "****\n"
     ]
    }
   ],
   "source": [
    "n = int(input())\n",
    "row = 1\n",
    "\n",
    "while row<=n:\n",
    "    col=1\n",
    "    while col<=row:\n",
    "        print(\"*\", end=\"\")\n",
    "        col = col+1\n",
    "    row = row+1\n",
    "    print()\n",
    "    "
   ]
  },
  {
   "cell_type": "markdown",
   "metadata": {},
   "source": [
    "<b>In simple english jargon <b/>"
   ]
  },
  {
   "cell_type": "markdown",
   "metadata": {},
   "source": [
    "\n",
    "\n",
    "1.num = int(input())    <p style=\"color:MediumSeaGreen;\">The code wants an input from the user. This number will be the matrix n*n and n would be printed in all. Example 4</p>\n",
    "\n",
    "2. row = 1 <p style=\"color:MediumSeaGreen;\">we are starting from row no.1 </p> \n",
    "\n",
    "3. while row<=n:\n",
    "\n",
    " <p style=\"color:MediumSeaGreen;\"> While row number is less than or equal to n. This would go vertically. Till the the row number is less than 4. </p> \n",
    "\n",
    "\n",
    "4. col=1 <p style=\"color:MediumSeaGreen;\">Now for every column we want to define the col number. So here we define the col count as 1</p> \n",
    "\n",
    "5.while col<=row <p style=\"color:MediumSeaGreen;\">Before we were saying col<=n but here were are saying row. Because it's 1st row. So the column will only till the 1column.</p> \n",
    "\n",
    "6. print(\"*\", end=\"\") <p style=\"color:MediumSeaGreen;\">print * and move the cursor to the next digit but wont start till the time our col won't increase. end=\"\" is just to indicate where we want to print next.</p> \n",
    "\n",
    "7. col = col+1 <p style=\"color:MediumSeaGreen;\"> Now we increase the col count so that we print the next digit.  > </p> \n",
    "\n",
    "8. i=i+1 <p style=\"color:MediumSeaGreen;\">As soon as col<=num, we break out the loop. Then increase the row count and give the direction by printing the next line. </p> \n",
    "\n",
    "9. And as soo as the row is equal to n we need to exit the loop and not do anything.\n",
    "\n",
    "\n",
    "start from 1st row, no.of rows = no.of stars. so second 2nd row, will have two stars and then\n",
    "\n",
    "<h1 style=\"color:Tomato;\">In python, indentation means we are entering or exiting the loop!</h1>\n"
   ]
  }
 ],
 "metadata": {
  "interpreter": {
   "hash": "ce94be0b55b1a20fa85f7c0f50dba5baf56c6f1ab6e0bb60cb6ec53d5a610bf5"
  },
  "kernelspec": {
   "display_name": "Python 3.7.6 ('base')",
   "language": "python",
   "name": "python3"
  },
  "language_info": {
   "codemirror_mode": {
    "name": "ipython",
    "version": 3
   },
   "file_extension": ".py",
   "mimetype": "text/x-python",
   "name": "python",
   "nbconvert_exporter": "python",
   "pygments_lexer": "ipython3",
   "version": "3.8.9"
  },
  "orig_nbformat": 4
 },
 "nbformat": 4,
 "nbformat_minor": 2
}
