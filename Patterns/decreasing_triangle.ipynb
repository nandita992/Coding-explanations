{
 "cells": [
  {
   "cell_type": "markdown",
   "metadata": {},
   "source": [
    "Print the following pattern for the given N number of rows.\n",
    "<br>\n",
    "\n",
    "1234\n",
    "<br>\n",
    "123\n",
    "<br>\n",
    "12\n",
    "<br>\n",
    "1\n"
   ]
  },
  {
   "cell_type": "code",
   "execution_count": 1,
   "metadata": {},
   "outputs": [
    {
     "name": "stdout",
     "output_type": "stream",
     "text": [
      "1234\n",
      "123\n",
      "12\n",
      "1\n"
     ]
    }
   ],
   "source": [
    "n = int(input())\n",
    "\n",
    "while n>=1: # starts with 5 and ends at 5\n",
    "    start_number = 1 # starts with 1 number interloop\n",
    "    while start_number<=n:\n",
    "        print(start_number, end='') # prints first number then second number\n",
    "        start_number+=1 # we increment this number by 1   1  2   3   4   5\n",
    "    print() # Now that the first line has been printed, the cursor will move to the next line\n",
    "    n-=1 # Now we decrease the value by 1. So previously it was stopping at 5, now it will stop at 4 then 3"
   ]
  },
  {
   "cell_type": "markdown",
   "metadata": {},
   "source": [
    "In this pattern we see that the triangle is decreasing. so we say that till the time n is more than 1 keep printing.\n",
    "Example: n =4. So n is more than 1 thus we enter the loop. We have also declared that the start number for columns is till the the time start number is less than n, we keep printing. So we will print 1,2,3,4 and we will keep incremeting the number. As soon as the number is 4, we stop and exit the loop. We enter the outerloop and shift the cursor to the next time using print() and also decrease n-1. \n",
    "\n",
    "New n = 3\n",
    "3 is more than 1, so we enter the loop, the start number is 1. We keep printing the numbeer row wise, till the time start number is less than 3. We keep incrementing the start number by 1. So, 1,2,3. Now 3==3, we break out of the loop and go to the row outer loop. Then we move our cursor to the next line and decrement n by 1. Our new n is 2 now."
   ]
  },
  {
   "cell_type": "markdown",
   "metadata": {},
   "source": [
    "<h1 style=\"color:DodgerBlue;\">In python, Indetation means coming in or out of the loop</h1>"
   ]
  },
  {
   "cell_type": "markdown",
   "metadata": {},
   "source": []
  }
 ],
 "metadata": {
  "interpreter": {
   "hash": "ce94be0b55b1a20fa85f7c0f50dba5baf56c6f1ab6e0bb60cb6ec53d5a610bf5"
  },
  "kernelspec": {
   "display_name": "Python 3.7.6 ('base')",
   "language": "python",
   "name": "python3"
  },
  "language_info": {
   "codemirror_mode": {
    "name": "ipython",
    "version": 3
   },
   "file_extension": ".py",
   "mimetype": "text/x-python",
   "name": "python",
   "nbconvert_exporter": "python",
   "pygments_lexer": "ipython3",
   "version": "3.8.9"
  },
  "orig_nbformat": 4
 },
 "nbformat": 4,
 "nbformat_minor": 2
}
