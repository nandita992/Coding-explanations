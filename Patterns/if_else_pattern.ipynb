{
 "cells": [
  {
   "cell_type": "markdown",
   "metadata": {},
   "source": [
    "Print the following pattern for the given N number of rows.\n",
    "<br>\n",
    "\n",
    "1\n",
    "<br>\n",
    "11\n",
    "<br>\n",
    "202\n",
    "<br>\n",
    "3003\n"
   ]
  },
  {
   "cell_type": "code",
   "execution_count": 1,
   "metadata": {},
   "outputs": [
    {
     "name": "stdout",
     "output_type": "stream",
     "text": [
      "1\n",
      "11\n",
      "111\n",
      "1111\n"
     ]
    }
   ],
   "source": [
    "num = int(input())\n",
    "row = 1\n",
    "\n",
    "while row<=num:\n",
    "    col=1\n",
    "    while col<=row:\n",
    "        if row==1:\n",
    "            print(\"1\", end=\"\")\n",
    "        elif col==1 or col==row:\n",
    "            print(row-1, end=\"\")\n",
    "        else:\n",
    "            print(\"0\", end=\"\")\n",
    "        col = col+1\n",
    "    row = row+1\n",
    "    print()\n"
   ]
  },
  {
   "cell_type": "markdown",
   "metadata": {},
   "source": [
    "<p style=\"color:Tomato;\">1. n = int(input())</p>\n",
    "\n",
    "The algorithm wants some input from the user. \n",
    "\n",
    "<p style=\"color:Tomato;\">2. row = 1</p>\n",
    "\n",
    "We specify the starting point of row as 1\n",
    "\n",
    "<p style=\"color:Tomato;\">3. while row<=n: </p>\n",
    "\n",
    "We want rows to be 4 as n, So we start from row 1 and go until the row is 4. So while says repeat all the codes till the time row count reach 4. So, if the row is 1, it enters the loop. So this will print row wise. If n is 4, it will prin * vertically.\n",
    "\n",
    "<p style=\"color:Tomato;\">4. col=1 </p>\n",
    "\n",
    "So in reach row we want to print column wise. So we say the col starts from 1.\n",
    "\n",
    "<p style=\"color:Tomato;\">5. while col<=row: </p>\n",
    "\n",
    "In the pattern we see that every row, has exactly the same number of digits. So, this line of code is saying that print till the time col count is less than row count. \n",
    "\n",
    "<p style=\"color:Tomato;\">if row==1: </p>\n",
    "Because we are not able to come up with any generic formula, thus we have divided the whole pattern into a grid, and then set conditions. So this says, that if row==1, print 1. In the first row, it won't go beyond 1st columns because we have a while loop of col is less than row. \n",
    "\n",
    "<p style=\"color:Tomato;\">elif col==1 or col==row: </p>\n",
    "If the previous condition is not true, then the algorithm comes to this part of the code. And the condition here is that if col=1 or col==row that is if the column is first or last. For example if the row number is 3, then the first column is 1st number or col==row, that is for 3rd row, 3rd column then print 2 that is row-1\n",
    "\n",
    "<p style=\"color:Tomato;\">else  print(\"0\", end=\"\") </p>\n",
    "If all the conditions are false, then just print 0.\n",
    "\n",
    "So if any of the condition is true, the if else loop will break and column number would be increased and again it would enter the while loop.\n",
    "\n",
    " <p style=\"color:Tomato;\">9. row = row+1</p>\n",
    "As soon as we finish with the column loop condition, we will break out of that loop and increase the row by 1.\n",
    "\n",
    " <p style=\"color:Tomato;\">10. print()</p>\n",
    " As we increase the row number by 1, we would move our cursor to the next row.\n"
   ]
  },
  {
   "cell_type": "markdown",
   "metadata": {},
   "source": [
    "<h1 style=\"color:DodgerBlue;\">In python, Indetation means coming in or out of the loop</h1>"
   ]
  },
  {
   "cell_type": "markdown",
   "metadata": {},
   "source": []
  }
 ],
 "metadata": {
  "interpreter": {
   "hash": "ce94be0b55b1a20fa85f7c0f50dba5baf56c6f1ab6e0bb60cb6ec53d5a610bf5"
  },
  "kernelspec": {
   "display_name": "Python 3.7.6 ('base')",
   "language": "python",
   "name": "python3"
  },
  "language_info": {
   "codemirror_mode": {
    "name": "ipython",
    "version": 3
   },
   "file_extension": ".py",
   "mimetype": "text/x-python",
   "name": "python",
   "nbconvert_exporter": "python",
   "pygments_lexer": "ipython3",
   "version": "3.8.9"
  },
  "orig_nbformat": 4
 },
 "nbformat": 4,
 "nbformat_minor": 2
}
