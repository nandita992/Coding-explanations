{
 "cells": [
  {
   "cell_type": "markdown",
   "metadata": {},
   "source": [
    "Print the following pattern for the given N number of rows.\n",
    "<br>\n",
    "\n",
    "4444\n",
    "<br>\n",
    "333\n",
    "<br>\n",
    "22\n",
    "<br>\n",
    "1\n"
   ]
  },
  {
   "cell_type": "code",
   "execution_count": 4,
   "metadata": {},
   "outputs": [
    {
     "name": "stdout",
     "output_type": "stream",
     "text": [
      "4444\n",
      "333\n",
      "22\n",
      "1\n"
     ]
    }
   ],
   "source": [
    "total_rows=int(input())\n",
    "row_count = 1\n",
    "digit=total_rows\n",
    "\n",
    "while row_count<=total_rows:\n",
    "    col_count=1\n",
    "    while col_count<=digit:\n",
    "        print(digit, end=\"\")\n",
    "        col_count += 1\n",
    "    print()\n",
    "    digit -= 1\n",
    "    row_count +=1"
   ]
  },
  {
   "cell_type": "markdown",
   "metadata": {},
   "source": [
    "In this patter, if n=4, that means we would have 4 rows and 4 columns but decreasing to 1. So the first row will have 4 columns and the column count would be equal to the number that needs to be printed. \n",
    "\n",
    "So for example, the total rows = 4. We say that the row count will still start from 1 and the digit that starts the pyramid would be equal to total_rows. So till time row count which is 1 is less than total rows which is 4, we enter the loop. The column count is 1, so while column count is less than or equal to the digit which is 4, keep printing 4 and be the col loop. We would keel incrementing our col count from 1 to 4. As soon as the col_count is less than the digit, we will end the loop and come out of it. We will enter the row loop, move our cursor to the next line decrement the digit as we need to print 3 now and increase our row count by 1 as we need to stop at 4. \n",
    "\n",
    "So now are new row_count is 2 which is less than the toal rows and start the same procedure again. "
   ]
  },
  {
   "cell_type": "markdown",
   "metadata": {},
   "source": [
    "<h1 style=\"color:DodgerBlue;\">In python, Indetation means coming in or out of the loop</h1>"
   ]
  },
  {
   "cell_type": "markdown",
   "metadata": {},
   "source": []
  }
 ],
 "metadata": {
  "interpreter": {
   "hash": "ce94be0b55b1a20fa85f7c0f50dba5baf56c6f1ab6e0bb60cb6ec53d5a610bf5"
  },
  "kernelspec": {
   "display_name": "Python 3.7.6 ('base')",
   "language": "python",
   "name": "python3"
  },
  "language_info": {
   "codemirror_mode": {
    "name": "ipython",
    "version": 3
   },
   "file_extension": ".py",
   "mimetype": "text/x-python",
   "name": "python",
   "nbconvert_exporter": "python",
   "pygments_lexer": "ipython3",
   "version": "3.8.9"
  },
  "orig_nbformat": 4
 },
 "nbformat": 4,
 "nbformat_minor": 2
}
