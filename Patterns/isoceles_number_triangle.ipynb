{
 "cells": [
  {
   "cell_type": "markdown",
   "metadata": {},
   "source": [
    "Isoclese triangle\n",
    "<br>\n",
    "\n",
    "...1  \n",
    "..232\n",
    "<br>\n",
    ".34543\n",
    "<br>\n",
    "4567654\n"
   ]
  },
  {
   "cell_type": "code",
   "execution_count": 2,
   "metadata": {},
   "outputs": [
    {
     "name": "stdout",
     "output_type": "stream",
     "text": [
      "   1\n",
      "  232\n",
      " 34543\n",
      "4567654\n"
     ]
    }
   ],
   "source": [
    "total_rows = int(input())\n",
    "row_count = 1\n",
    "\n",
    "# Printing outer structure of rows: # This loop is the print the rows\n",
    "while row_count<=total_rows: # so while the row_count is less than the total rows\n",
    "    #Space Count :we would first print the spaces:\n",
    "    space_count = 1; # We take space count as 1\n",
    "    while space_count<=total_rows-row_count: # as space count is 4-1 = 3, we keep printing\n",
    "        print(\" \", end=\"\") # \" \" is to print spaces\n",
    "        space_count +=1 # Above code will print first space and then we move our cursor to next and again enter the while loop\n",
    "        \n",
    "    #Increasing Numbers: Printing numbers\n",
    "    digit_count = 1; # we start the digits counting from 1. No. of digits is same as the row number\n",
    "    incr_number = row_count; # we see that the starting number is same as the row count\n",
    "    while digit_count<=row_count: # So as digit counting is less than the row number we enter the loop\n",
    "        print(incr_number, end=\"\") # we start the digit with the row number\n",
    "        digit_count +=1 # we move our cursor and increase our count to 2\n",
    "        incr_number +=1 # we also increase our digit to the next digit\n",
    "        \n",
    "        \n",
    "    #Decreasing numbers: Printing decreasing numbers. This is the Right hand side digit\n",
    "    dec_row_count = 1; # the count will start from 1\n",
    "    decre_number = (2*row_count)-2 # the starting digit has this formula\n",
    "    while dec_row_count<=row_count-1: # no. of digits in each is one less than the row count\n",
    "        print(decre_number, end=\"\") # This is starting number\n",
    "        dec_row_count +=1 # we keeo increasing the column count\n",
    "        decre_number -=1 # and keep decreasing the number.\n",
    "        \n",
    "        \n",
    "    print()\n",
    "    row_count +=1"
   ]
  },
  {
   "cell_type": "markdown",
   "metadata": {},
   "source": [
    "<h1 style=\"color:DodgerBlue;\">In python, Indetation means coming in or out of the loop</h1>"
   ]
  }
 ],
 "metadata": {
  "interpreter": {
   "hash": "ce94be0b55b1a20fa85f7c0f50dba5baf56c6f1ab6e0bb60cb6ec53d5a610bf5"
  },
  "kernelspec": {
   "display_name": "Python 3.7.6 ('base')",
   "language": "python",
   "name": "python3"
  },
  "language_info": {
   "codemirror_mode": {
    "name": "ipython",
    "version": 3
   },
   "file_extension": ".py",
   "mimetype": "text/x-python",
   "name": "python",
   "nbconvert_exporter": "python",
   "pygments_lexer": "ipython3",
   "version": "3.7.6"
  },
  "orig_nbformat": 4
 },
 "nbformat": 4,
 "nbformat_minor": 2
}
