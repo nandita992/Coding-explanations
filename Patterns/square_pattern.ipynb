{
 "cells": [
  {
   "cell_type": "markdown",
   "metadata": {},
   "source": [
    "<b>Print the following pattern\n",
    "<br>\n",
    "4444\n",
    "<br>\n",
    "4444\n",
    "<br>\n",
    "4444\n",
    "<br>\n",
    "4444 <b/>"
   ]
  },
  {
   "cell_type": "code",
   "execution_count": null,
   "metadata": {},
   "outputs": [],
   "source": [
    "n= int(input())\n",
    "row = 1\n",
    "\n",
    "while row<=n:\n",
    "    col=1\n",
    "    while col<=n:\n",
    "        print(n,end='')\n",
    "        col = col+1\n",
    "    print()\n",
    "    row=row+1\n",
    "    "
   ]
  },
  {
   "cell_type": "markdown",
   "metadata": {},
   "source": [
    "<b>In simple english jargon <b/>"
   ]
  },
  {
   "cell_type": "markdown",
   "metadata": {},
   "source": [
    "\n",
    "\n",
    "1.num = int(input())    <p style=\"color:MediumSeaGreen;\">The code wants an input from the user. This number will be the matrix n*n and n would be printed in all</p>\n",
    "\n",
    "2. i = 1 <p style=\"color:MediumSeaGreen;\">we are starting from row no.1 </p> \n",
    "\n",
    "3. while row<=n:\n",
    "\n",
    " <p style=\"color:MediumSeaGreen;\"> While row number is less than or equal to n. This would go vertically. </p> \n",
    "\n",
    "\n",
    "4. col=1 <p style=\"color:MediumSeaGreen;\">Now for every column we want to define the col number. So here we define the col count as 1</p> \n",
    "\n",
    "5.while col<=n <p style=\"color:MediumSeaGreen;\">While colum is less than the number </p> \n",
    "\n",
    "6. print(n,end='') <p style=\"color:MediumSeaGreen;\">and this is printing horizontally because of end=''command. So this is printing n .</p> \n",
    "\n",
    "7. print() <p style=\"color:MediumSeaGreen;\"> So as soon the column is 4, it breaks of the loop and prints the new line </p> \n",
    "\n",
    "8. i=i+1 <p style=\"color:MediumSeaGreen;\">Now we are incrementing the row count by 1 </p> \n",
    "\n",
    "9. And as soo as the row is equal to n we need to exit the loop and not do anything.\n",
    "\n",
    "\n",
    "Start = 1st row 1st column\n",
    "end = 4th row 4 the column\n",
    "Print what ? N\n",
    "\n",
    "<h1 style=\"color:Tomato;\">In python, indentation means we are entering or exiting the loop!</h1>\n"
   ]
  },
  {
   "cell_type": "markdown",
   "metadata": {},
   "source": []
  }
 ],
 "metadata": {
  "interpreter": {
   "hash": "ce94be0b55b1a20fa85f7c0f50dba5baf56c6f1ab6e0bb60cb6ec53d5a610bf5"
  },
  "kernelspec": {
   "display_name": "Python 3.7.6 ('base')",
   "language": "python",
   "name": "python3"
  },
  "language_info": {
   "codemirror_mode": {
    "name": "ipython",
    "version": 3
   },
   "file_extension": ".py",
   "mimetype": "text/x-python",
   "name": "python",
   "nbconvert_exporter": "python",
   "pygments_lexer": "ipython3",
   "version": "3.7.6"
  },
  "orig_nbformat": 4
 },
 "nbformat": 4,
 "nbformat_minor": 2
}
